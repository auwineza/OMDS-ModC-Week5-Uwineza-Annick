{
 "cells": [
  {
   "cell_type": "markdown",
   "id": "d1e3418e",
   "metadata": {},
   "source": [
    "# Week 5 — Support Vector Machines\n",
    "**Dataset:** Chronic_Kidney_Dsease_data.csv \n",
    "**Target:** `Diagnosis` (binary)  \n",
    "**Notes:** Drops identifier columns `['PatientID', 'DoctorInCharge']` if present; imputes missing values; handles categoricals with one-hot; uses class weighting for imbalance.\n"
   ]
  },
  {
   "cell_type": "markdown",
   "id": "f6a4d05d",
   "metadata": {},
   "source": [
    "## 0) Setup & imports"
   ]
  },
  {
   "cell_type": "code",
   "execution_count": 1,
   "id": "f2b43d39",
   "metadata": {},
   "outputs": [
    {
     "name": "stdout",
     "output_type": "stream",
     "text": [
      "Libraries imported OK\n"
     ]
    }
   ],
   "source": [
    "import numpy as np, pandas as pd, matplotlib.pyplot as plt\n",
    "from pathlib import Path\n",
    "from sklearn.model_selection import train_test_split, StratifiedKFold, cross_validate, GridSearchCV\n",
    "from sklearn.preprocessing import OneHotEncoder, StandardScaler\n",
    "from sklearn.compose import ColumnTransformer\n",
    "from sklearn.pipeline import Pipeline\n",
    "from sklearn.impute import SimpleImputer\n",
    "from sklearn.svm import SVC, SVR\n",
    "from sklearn.metrics import (accuracy_score, f1_score, roc_auc_score, confusion_matrix, \n",
    "                             classification_report)\n",
    "\n",
    "plt.rcParams['figure.figsize'] = (7,4)\n",
    "np.random.seed(42)\n",
    "print('Libraries imported OK')\n"
   ]
  },
  {
   "cell_type": "markdown",
   "id": "98d9c7f8",
   "metadata": {},
   "source": [
    "## 1) Load CKD data"
   ]
  },
  {
   "cell_type": "code",
   "execution_count": 2,
   "id": "1bdd1a15",
   "metadata": {},
   "outputs": [
    {
     "name": "stdout",
     "output_type": "stream",
     "text": [
      "Shape: (1659, 54)\n"
     ]
    },
    {
     "data": {
      "text/html": [
       "<div>\n",
       "<style scoped>\n",
       "    .dataframe tbody tr th:only-of-type {\n",
       "        vertical-align: middle;\n",
       "    }\n",
       "\n",
       "    .dataframe tbody tr th {\n",
       "        vertical-align: top;\n",
       "    }\n",
       "\n",
       "    .dataframe thead th {\n",
       "        text-align: right;\n",
       "    }\n",
       "</style>\n",
       "<table border=\"1\" class=\"dataframe\">\n",
       "  <thead>\n",
       "    <tr style=\"text-align: right;\">\n",
       "      <th></th>\n",
       "      <th>PatientID</th>\n",
       "      <th>Age</th>\n",
       "      <th>Gender</th>\n",
       "      <th>Ethnicity</th>\n",
       "      <th>SocioeconomicStatus</th>\n",
       "      <th>EducationLevel</th>\n",
       "      <th>BMI</th>\n",
       "      <th>Smoking</th>\n",
       "      <th>AlcoholConsumption</th>\n",
       "      <th>PhysicalActivity</th>\n",
       "      <th>...</th>\n",
       "      <th>Itching</th>\n",
       "      <th>QualityOfLifeScore</th>\n",
       "      <th>HeavyMetalsExposure</th>\n",
       "      <th>OccupationalExposureChemicals</th>\n",
       "      <th>WaterQuality</th>\n",
       "      <th>MedicalCheckupsFrequency</th>\n",
       "      <th>MedicationAdherence</th>\n",
       "      <th>HealthLiteracy</th>\n",
       "      <th>Diagnosis</th>\n",
       "      <th>DoctorInCharge</th>\n",
       "    </tr>\n",
       "  </thead>\n",
       "  <tbody>\n",
       "    <tr>\n",
       "      <th>0</th>\n",
       "      <td>1</td>\n",
       "      <td>71</td>\n",
       "      <td>0</td>\n",
       "      <td>0</td>\n",
       "      <td>0</td>\n",
       "      <td>2</td>\n",
       "      <td>31.069414</td>\n",
       "      <td>1</td>\n",
       "      <td>5.128112</td>\n",
       "      <td>1.676220</td>\n",
       "      <td>...</td>\n",
       "      <td>7.556302</td>\n",
       "      <td>76.076800</td>\n",
       "      <td>0</td>\n",
       "      <td>0</td>\n",
       "      <td>1</td>\n",
       "      <td>1.018824</td>\n",
       "      <td>4.966808</td>\n",
       "      <td>9.871449</td>\n",
       "      <td>1</td>\n",
       "      <td>Confidential</td>\n",
       "    </tr>\n",
       "    <tr>\n",
       "      <th>1</th>\n",
       "      <td>2</td>\n",
       "      <td>34</td>\n",
       "      <td>0</td>\n",
       "      <td>0</td>\n",
       "      <td>1</td>\n",
       "      <td>3</td>\n",
       "      <td>29.692119</td>\n",
       "      <td>1</td>\n",
       "      <td>18.609552</td>\n",
       "      <td>8.377574</td>\n",
       "      <td>...</td>\n",
       "      <td>6.836766</td>\n",
       "      <td>40.128498</td>\n",
       "      <td>0</td>\n",
       "      <td>0</td>\n",
       "      <td>0</td>\n",
       "      <td>3.923538</td>\n",
       "      <td>8.189275</td>\n",
       "      <td>7.161765</td>\n",
       "      <td>1</td>\n",
       "      <td>Confidential</td>\n",
       "    </tr>\n",
       "    <tr>\n",
       "      <th>2</th>\n",
       "      <td>3</td>\n",
       "      <td>80</td>\n",
       "      <td>1</td>\n",
       "      <td>1</td>\n",
       "      <td>0</td>\n",
       "      <td>1</td>\n",
       "      <td>37.394822</td>\n",
       "      <td>1</td>\n",
       "      <td>11.882429</td>\n",
       "      <td>9.607401</td>\n",
       "      <td>...</td>\n",
       "      <td>2.144722</td>\n",
       "      <td>92.872842</td>\n",
       "      <td>0</td>\n",
       "      <td>1</td>\n",
       "      <td>1</td>\n",
       "      <td>1.429906</td>\n",
       "      <td>7.624028</td>\n",
       "      <td>7.354632</td>\n",
       "      <td>1</td>\n",
       "      <td>Confidential</td>\n",
       "    </tr>\n",
       "    <tr>\n",
       "      <th>3</th>\n",
       "      <td>4</td>\n",
       "      <td>40</td>\n",
       "      <td>0</td>\n",
       "      <td>2</td>\n",
       "      <td>0</td>\n",
       "      <td>1</td>\n",
       "      <td>31.329680</td>\n",
       "      <td>0</td>\n",
       "      <td>16.020165</td>\n",
       "      <td>0.408871</td>\n",
       "      <td>...</td>\n",
       "      <td>7.077188</td>\n",
       "      <td>90.080321</td>\n",
       "      <td>0</td>\n",
       "      <td>0</td>\n",
       "      <td>0</td>\n",
       "      <td>3.226416</td>\n",
       "      <td>3.282688</td>\n",
       "      <td>6.629587</td>\n",
       "      <td>1</td>\n",
       "      <td>Confidential</td>\n",
       "    </tr>\n",
       "    <tr>\n",
       "      <th>4</th>\n",
       "      <td>5</td>\n",
       "      <td>43</td>\n",
       "      <td>0</td>\n",
       "      <td>1</td>\n",
       "      <td>1</td>\n",
       "      <td>2</td>\n",
       "      <td>23.726311</td>\n",
       "      <td>0</td>\n",
       "      <td>7.944146</td>\n",
       "      <td>0.780319</td>\n",
       "      <td>...</td>\n",
       "      <td>3.553118</td>\n",
       "      <td>5.258372</td>\n",
       "      <td>0</td>\n",
       "      <td>0</td>\n",
       "      <td>1</td>\n",
       "      <td>0.285466</td>\n",
       "      <td>3.849498</td>\n",
       "      <td>1.437385</td>\n",
       "      <td>1</td>\n",
       "      <td>Confidential</td>\n",
       "    </tr>\n",
       "  </tbody>\n",
       "</table>\n",
       "<p>5 rows × 54 columns</p>\n",
       "</div>"
      ],
      "text/plain": [
       "   PatientID  Age  Gender  Ethnicity  SocioeconomicStatus  EducationLevel  \\\n",
       "0          1   71       0          0                    0               2   \n",
       "1          2   34       0          0                    1               3   \n",
       "2          3   80       1          1                    0               1   \n",
       "3          4   40       0          2                    0               1   \n",
       "4          5   43       0          1                    1               2   \n",
       "\n",
       "         BMI  Smoking  AlcoholConsumption  PhysicalActivity  ...   Itching  \\\n",
       "0  31.069414        1            5.128112          1.676220  ...  7.556302   \n",
       "1  29.692119        1           18.609552          8.377574  ...  6.836766   \n",
       "2  37.394822        1           11.882429          9.607401  ...  2.144722   \n",
       "3  31.329680        0           16.020165          0.408871  ...  7.077188   \n",
       "4  23.726311        0            7.944146          0.780319  ...  3.553118   \n",
       "\n",
       "   QualityOfLifeScore  HeavyMetalsExposure  OccupationalExposureChemicals  \\\n",
       "0           76.076800                    0                              0   \n",
       "1           40.128498                    0                              0   \n",
       "2           92.872842                    0                              1   \n",
       "3           90.080321                    0                              0   \n",
       "4            5.258372                    0                              0   \n",
       "\n",
       "   WaterQuality  MedicalCheckupsFrequency  MedicationAdherence  \\\n",
       "0             1                  1.018824             4.966808   \n",
       "1             0                  3.923538             8.189275   \n",
       "2             1                  1.429906             7.624028   \n",
       "3             0                  3.226416             3.282688   \n",
       "4             1                  0.285466             3.849498   \n",
       "\n",
       "   HealthLiteracy  Diagnosis  DoctorInCharge  \n",
       "0        9.871449          1    Confidential  \n",
       "1        7.161765          1    Confidential  \n",
       "2        7.354632          1    Confidential  \n",
       "3        6.629587          1    Confidential  \n",
       "4        1.437385          1    Confidential  \n",
       "\n",
       "[5 rows x 54 columns]"
      ]
     },
     "execution_count": 2,
     "metadata": {},
     "output_type": "execute_result"
    }
   ],
   "source": [
    "DATA_PATH = \"Chronic_Kidney_Dsease_data.csv\"\n",
    "TARGET_COL = \"Diagnosis\"\n",
    "ID_COLS = ['PatientID', 'DoctorInCharge']\n",
    "\n",
    "df = pd.read_csv(DATA_PATH)\n",
    "print('Shape:', df.shape)\n",
    "df.head()"
   ]
  },
  {
   "cell_type": "markdown",
   "id": "e3ea8ca7",
   "metadata": {},
   "source": [
    "## 2) Train/test split and preprocessing"
   ]
  },
  {
   "cell_type": "code",
   "execution_count": 3,
   "id": "8f0e68ab",
   "metadata": {},
   "outputs": [
    {
     "name": "stdout",
     "output_type": "stream",
     "text": [
      "Numeric: 51 | Categorical: 0\n"
     ]
    }
   ],
   "source": [
    "# Drop IDs if present\n",
    "df = df.drop(columns=[c for c in ID_COLS if c in df.columns])\n",
    "\n",
    "# Features / target\n",
    "X = df.drop(columns=[TARGET_COL])\n",
    "y = df[TARGET_COL]\n",
    "\n",
    "# Numeric vs categorical\n",
    "num_cols = [c for c in X.columns if pd.api.types.is_numeric_dtype(X[c])]\n",
    "cat_cols = [c for c in X.columns if c not in num_cols]\n",
    "print(f'Numeric: {len(num_cols)} | Categorical: {len(cat_cols)}')\n",
    "\n",
    "# Split (stratified)\n",
    "X_train, X_test, y_train, y_test = train_test_split(\n",
    "    X, y, test_size=0.2, stratify=y, random_state=42\n",
    ")\n",
    "\n",
    "# Pipelines\n",
    "numeric_tf = Pipeline([('imputer', SimpleImputer(strategy='median')), \n",
    "                       ('scaler', StandardScaler())])\n",
    "categorical_tf = Pipeline([('imputer', SimpleImputer(strategy='most_frequent')), \n",
    "                           ('oh', OneHotEncoder(handle_unknown='ignore'))])\n",
    "\n",
    "preprocess = ColumnTransformer(\n",
    "    [('num', numeric_tf, num_cols), ('cat', categorical_tf, cat_cols)]\n",
    ")"
   ]
  },
  {
   "cell_type": "markdown",
   "id": "bf2261d3",
   "metadata": {},
   "source": [
    "## 3) Baselines: Linear vs RBF SVM"
   ]
  },
  {
   "cell_type": "code",
   "execution_count": 4,
   "id": "30041213",
   "metadata": {},
   "outputs": [
    {
     "data": {
      "text/html": [
       "<div>\n",
       "<style scoped>\n",
       "    .dataframe tbody tr th:only-of-type {\n",
       "        vertical-align: middle;\n",
       "    }\n",
       "\n",
       "    .dataframe tbody tr th {\n",
       "        vertical-align: top;\n",
       "    }\n",
       "\n",
       "    .dataframe thead th {\n",
       "        text-align: right;\n",
       "    }\n",
       "</style>\n",
       "<table border=\"1\" class=\"dataframe\">\n",
       "  <thead>\n",
       "    <tr style=\"text-align: right;\">\n",
       "      <th></th>\n",
       "      <th>kernel</th>\n",
       "      <th>accuracy</th>\n",
       "      <th>f1</th>\n",
       "      <th>roc_auc</th>\n",
       "    </tr>\n",
       "  </thead>\n",
       "  <tbody>\n",
       "    <tr>\n",
       "      <th>0</th>\n",
       "      <td>linear</td>\n",
       "      <td>0.740964</td>\n",
       "      <td>0.839552</td>\n",
       "      <td>0.801943</td>\n",
       "    </tr>\n",
       "    <tr>\n",
       "      <th>1</th>\n",
       "      <td>rbf</td>\n",
       "      <td>0.903614</td>\n",
       "      <td>0.948052</td>\n",
       "      <td>0.785064</td>\n",
       "    </tr>\n",
       "    <tr>\n",
       "      <th>2</th>\n",
       "      <td>poly</td>\n",
       "      <td>0.921687</td>\n",
       "      <td>0.959119</td>\n",
       "      <td>0.778992</td>\n",
       "    </tr>\n",
       "  </tbody>\n",
       "</table>\n",
       "</div>"
      ],
      "text/plain": [
       "   kernel  accuracy        f1   roc_auc\n",
       "0  linear  0.740964  0.839552  0.801943\n",
       "1     rbf  0.903614  0.948052  0.785064\n",
       "2    poly  0.921687  0.959119  0.778992"
      ]
     },
     "execution_count": 4,
     "metadata": {},
     "output_type": "execute_result"
    }
   ],
   "source": [
    "models = {\n",
    "    \"linear\": Pipeline([('prep', preprocess),\n",
    "                        ('svm', SVC(kernel='linear', class_weight='balanced', probability=True, random_state=42))]),\n",
    "    \"rbf\":    Pipeline([('prep', preprocess),\n",
    "                        ('svm', SVC(kernel='rbf', class_weight='balanced', probability=True, random_state=42))]),\n",
    "    \"poly\":   Pipeline([('prep', preprocess),\n",
    "                        ('svm', SVC(kernel='poly', degree=3, class_weight='balanced', probability=True, random_state=42))]),\n",
    "}\n",
    "rows = []\n",
    "for name, m in models.items():\n",
    "    m.fit(X_train, y_train)\n",
    "    y_pred = m.predict(X_test)\n",
    "    y_prob = m.predict_proba(X_test)[:,1]\n",
    "    rows.append({\n",
    "        'kernel': name,\n",
    "        'accuracy': accuracy_score(y_test, y_pred),\n",
    "        'f1': f1_score(y_test, y_pred),\n",
    "        'roc_auc': roc_auc_score(y_test, y_prob)\n",
    "    })\n",
    "pd.DataFrame(rows)"
   ]
  },
  {
   "cell_type": "markdown",
   "id": "f46eda87",
   "metadata": {},
   "source": [
    "## 4) 5-fold CV comparison"
   ]
  },
  {
   "cell_type": "code",
   "execution_count": 5,
   "id": "666f60e5",
   "metadata": {},
   "outputs": [
    {
     "data": {
      "text/html": [
       "<div>\n",
       "<style scoped>\n",
       "    .dataframe tbody tr th:only-of-type {\n",
       "        vertical-align: middle;\n",
       "    }\n",
       "\n",
       "    .dataframe tbody tr th {\n",
       "        vertical-align: top;\n",
       "    }\n",
       "\n",
       "    .dataframe thead th {\n",
       "        text-align: right;\n",
       "    }\n",
       "</style>\n",
       "<table border=\"1\" class=\"dataframe\">\n",
       "  <thead>\n",
       "    <tr style=\"text-align: right;\">\n",
       "      <th></th>\n",
       "      <th>kernel</th>\n",
       "      <th>acc_cv</th>\n",
       "      <th>f1_cv</th>\n",
       "      <th>auc_cv</th>\n",
       "    </tr>\n",
       "  </thead>\n",
       "  <tbody>\n",
       "    <tr>\n",
       "      <th>0</th>\n",
       "      <td>linear</td>\n",
       "      <td>0.772134</td>\n",
       "      <td>0.862585</td>\n",
       "      <td>0.809154</td>\n",
       "    </tr>\n",
       "    <tr>\n",
       "      <th>1</th>\n",
       "      <td>rbf</td>\n",
       "      <td>0.912605</td>\n",
       "      <td>0.953340</td>\n",
       "      <td>0.797063</td>\n",
       "    </tr>\n",
       "    <tr>\n",
       "      <th>2</th>\n",
       "      <td>poly</td>\n",
       "      <td>0.920435</td>\n",
       "      <td>0.958492</td>\n",
       "      <td>0.761530</td>\n",
       "    </tr>\n",
       "  </tbody>\n",
       "</table>\n",
       "</div>"
      ],
      "text/plain": [
       "   kernel    acc_cv     f1_cv    auc_cv\n",
       "0  linear  0.772134  0.862585  0.809154\n",
       "1     rbf  0.912605  0.953340  0.797063\n",
       "2    poly  0.920435  0.958492  0.761530"
      ]
     },
     "execution_count": 5,
     "metadata": {},
     "output_type": "execute_result"
    }
   ],
   "source": [
    "cv = StratifiedKFold(n_splits=5, shuffle=True, random_state=42)\n",
    "def cv_kernel(name, est):\n",
    "    pipe = Pipeline([('prep', preprocess), ('svm', est)])\n",
    "    scores = cross_validate(pipe, X, y, cv=cv, scoring=['accuracy','f1','roc_auc'])\n",
    "    return {'kernel': name,\n",
    "            'acc_cv': scores['test_accuracy'].mean(),\n",
    "            'f1_cv': scores['test_f1'].mean(),\n",
    "            'auc_cv': scores['test_roc_auc'].mean()}\n",
    "\n",
    "cv_rows = []\n",
    "for name, est in {\n",
    "    'linear': SVC(kernel='linear', class_weight='balanced', probability=True, random_state=42),\n",
    "    'rbf':    SVC(kernel='rbf', class_weight='balanced', probability=True, random_state=42),\n",
    "    'poly':   SVC(kernel='poly', degree=3, class_weight='balanced', probability=True, random_state=42)\n",
    "}.items():\n",
    "    cv_rows.append(cv_kernel(name, est))\n",
    "cv_df = pd.DataFrame(cv_rows); cv_df"
   ]
  },
  {
   "cell_type": "markdown",
   "id": "d894dc0f",
   "metadata": {},
   "source": [
    "## 5) Regularization sweeps: C and gamma (RBF)"
   ]
  },
  {
   "cell_type": "code",
   "execution_count": 6,
   "id": "e61dbb5f",
   "metadata": {},
   "outputs": [
    {
     "data": {
      "image/png": "[encoded data removed]",
      "text/plain": [
       "<Figure size 700x400 with 1 Axes>"
      ]
     },
     "metadata": {},
     "output_type": "display_data"
    },
    {
     "data": {
      "image/png": "[encoded data removed]",
      "text/plain": [
       "<Figure size 700x400 with 1 Axes>"
      ]
     },
     "metadata": {},
     "output_type": "display_data"
    }
   ],
   "source": [
    "def sweep_param(param, values):\n",
    "    means = []\n",
    "    for v in values:\n",
    "        est = SVC(kernel='rbf', class_weight='balanced', probability=True, random_state=42)\n",
    "        pipe = Pipeline([('prep', preprocess), ('svm', est.set_params(**{param: v}))])\n",
    "        s = cross_validate(pipe, X, y, cv=cv, scoring='roc_auc')['test_score'].mean()\n",
    "        means.append(s)\n",
    "    return means\n",
    "\n",
    "import numpy as np, matplotlib.pyplot as plt\n",
    "C_vals = np.logspace(-2, 2, 8); gamma_vals = np.logspace(-3, 1, 9)\n",
    "\n",
    "auc_C = sweep_param('C', C_vals)\n",
    "plt.figure(); plt.plot(C_vals, auc_C, marker='o'); plt.xscale('log'); plt.xlabel('C'); plt.ylabel('CV ROC AUC'); plt.title('RBF: C sweep'); plt.show()\n",
    "\n",
    "auc_g = sweep_param('gamma', gamma_vals)\n",
    "plt.figure(); plt.plot(gamma_vals, auc_g, marker='o'); plt.xscale('log'); plt.xlabel('gamma'); plt.ylabel('CV ROC AUC'); plt.title('RBF: gamma sweep'); plt.show()"
   ]
  },
  {
   "cell_type": "markdown",
   "id": "68cca8b4",
   "metadata": {},
   "source": [
    "## 6) GridSearchCV on RBF/Poly"
   ]
  },
  {
   "cell_type": "code",
   "execution_count": 7,
   "id": "2c20e1a7",
   "metadata": {},
   "outputs": [
    {
     "name": "stdout",
     "output_type": "stream",
     "text": [
      "Best params: {'svm__C': np.float64(0.3981071705534973), 'svm__degree': 2, 'svm__gamma': np.float64(0.001), 'svm__kernel': 'rbf'}\n",
      "Best CV ROC AUC: 0.81441599620106\n",
      "              precision    recall  f1-score   support\n",
      "\n",
      "           0       0.21      0.81      0.33        27\n",
      "           1       0.98      0.72      0.83       305\n",
      "\n",
      "    accuracy                           0.73       332\n",
      "   macro avg       0.59      0.77      0.58       332\n",
      "weighted avg       0.91      0.73      0.79       332\n",
      "\n"
     ]
    },
    {
     "data": {
      "image/png": "[encoded data removed]",
      "text/plain": [
       "<Figure size 700x400 with 2 Axes>"
      ]
     },
     "metadata": {},
     "output_type": "display_data"
    }
   ],
   "source": [
    "param_grid = {\n",
    "    'svm__kernel': ['rbf','poly'],\n",
    "    'svm__C': np.logspace(-2, 2, 6),\n",
    "    'svm__gamma': ['scale'] + list(np.logspace(-3, 0, 4)),\n",
    "    'svm__degree': [2,3]\n",
    "}\n",
    "pipe = Pipeline([('prep', preprocess), ('svm', SVC(class_weight='balanced', probability=True, random_state=42))])\n",
    "gs = GridSearchCV(pipe, param_grid, scoring='roc_auc', cv=cv)\n",
    "gs.fit(X_train, y_train)\n",
    "print('Best params:', gs.best_params_)\n",
    "print('Best CV ROC AUC:', gs.best_score_)\n",
    "\n",
    "best = gs.best_estimator_\n",
    "from sklearn.metrics import ConfusionMatrixDisplay\n",
    "print(classification_report(y_test, best.predict(X_test)))\n",
    "ConfusionMatrixDisplay.from_predictions(y_test, best.predict(X_test)); plt.title('Confusion Matrix (Test)'); plt.show()"
   ]
  },
  {
   "cell_type": "markdown",
   "id": "18692aa5",
   "metadata": {},
   "source": [
    "## 7) Notes: kernel trick & regularization"
   ]
  },
  {
   "cell_type": "markdown",
   "id": "db73c1de",
   "metadata": {},
   "source": [
    "SVMs achieve non-linear decision boundaries via a kernel that computes pairwise similarity without explicitly mapping features.  \n",
    "`C` controls regularization; larger `C` can overfit. For RBF and polynomial kernels, `gamma` (and `degree`) adjust complexity/scale.\n"
   ]
  },
  {
   "cell_type": "markdown",
   "id": "3320a14d",
   "metadata": {},
   "source": [
    "## 8) Conclusions"
   ]
  },
  {
   "cell_type": "markdown",
   "id": "b93e5b4f",
   "metadata": {},
   "source": [
    "- Which kernel worked best on CKD?\n",
    "\n",
    "The RBF SVM performed best on accuracy and F1, while the linear SVM was slightly higher on ROC AUC. After hyperparameter tuning, RBF typically edges out linear on this dataset (non-linear signal), with polynomial lagging or being less stable. \n",
    "\n",
    "- How did `C` and `gamma` affect performance?  \n",
    "\n",
    "C (regularization): Very small C underfit (large margin, low variance, poorer scores). Very large C overfit (tight margin, higher variance). Performance peaked at a mid-range C on the log scale.\n",
    "\n",
    "gamma (RBF kernel width): Showed the classic U-shape: too small → overly smooth boundary (underfit); too large → very wiggly boundary (overfit). A moderate gamma gave the best cross-validated scores.\n",
    "\n",
    "- Class imbalance observations and next steps for Milestone One.\n",
    "\n",
    "Your target is imbalanced (many more “Diagnosis=1” than “0”), so keep class_weight='balanced'. For a clinical task, emphasize recall (catching CKD) while monitoring precision. Next steps:\n",
    "\n",
    "Report PR AUC and recall/precision at a chosen threshold (tune threshold to your clinical goal).\n",
    "\n",
    "Calibrate probabilities (e.g., CalibratedClassifierCV with isotonic) so scores map to risk more reliably.\n",
    "\n",
    "Consider stratified CV, SMOTE or undersampling baselines (compare to class_weight), and cost-sensitive evaluation.\n"
   ]
  }
 ],
 "metadata": {
  "kernelspec": {
   "display_name": "Python 3",
   "language": "python",
   "name": "python3"
  },
  "language_info": {
   "codemirror_mode": {
    "name": "ipython",
    "version": 3
   },
   "file_extension": ".py",
   "mimetype": "text/x-python",
   "name": "python",
   "nbconvert_exporter": "python",
   "pygments_lexer": "ipython3",
   "version": "3.12.1"
  }
 },
 "nbformat": 4,
 "nbformat_minor": 5
}
